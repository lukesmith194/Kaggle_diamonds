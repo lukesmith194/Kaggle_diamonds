{
 "cells": [
  {
   "cell_type": "markdown",
   "id": "8021e0fd",
   "metadata": {},
   "source": [
    "# Kaggle diamonds competition"
   ]
  },
  {
   "cell_type": "markdown",
   "id": "da20427e",
   "metadata": {},
   "source": [
    "## Imports"
   ]
  },
  {
   "cell_type": "code",
   "execution_count": 180,
   "id": "596c2895",
   "metadata": {},
   "outputs": [],
   "source": [
    "import pandas as pd\n",
    "import seaborn as sns\n"
   ]
  },
  {
   "cell_type": "code",
   "execution_count": 181,
   "id": "3a946959",
   "metadata": {},
   "outputs": [],
   "source": [
    "df = pd.read_csv('./diamonds-datamad0921/train.csv')\n"
   ]
  },
  {
   "cell_type": "code",
   "execution_count": 182,
   "id": "9bfb6f73",
   "metadata": {},
   "outputs": [],
   "source": [
    "df2 = pd.read_csv('./diamonds-datamad0921/test.csv')"
   ]
  },
  {
   "cell_type": "code",
   "execution_count": 183,
   "id": "cb7c79f6",
   "metadata": {},
   "outputs": [
    {
     "data": {
      "text/html": [
       "<div>\n",
       "<style scoped>\n",
       "    .dataframe tbody tr th:only-of-type {\n",
       "        vertical-align: middle;\n",
       "    }\n",
       "\n",
       "    .dataframe tbody tr th {\n",
       "        vertical-align: top;\n",
       "    }\n",
       "\n",
       "    .dataframe thead th {\n",
       "        text-align: right;\n",
       "    }\n",
       "</style>\n",
       "<table border=\"1\" class=\"dataframe\">\n",
       "  <thead>\n",
       "    <tr style=\"text-align: right;\">\n",
       "      <th></th>\n",
       "      <th>id</th>\n",
       "      <th>carat</th>\n",
       "      <th>cut</th>\n",
       "      <th>color</th>\n",
       "      <th>clarity</th>\n",
       "      <th>depth</th>\n",
       "      <th>table</th>\n",
       "      <th>x</th>\n",
       "      <th>y</th>\n",
       "      <th>z</th>\n",
       "    </tr>\n",
       "  </thead>\n",
       "  <tbody>\n",
       "    <tr>\n",
       "      <th>0</th>\n",
       "      <td>0</td>\n",
       "      <td>0.32</td>\n",
       "      <td>Ideal</td>\n",
       "      <td>I</td>\n",
       "      <td>SI1</td>\n",
       "      <td>60.5</td>\n",
       "      <td>58.0</td>\n",
       "      <td>4.43</td>\n",
       "      <td>4.49</td>\n",
       "      <td>2.70</td>\n",
       "    </tr>\n",
       "    <tr>\n",
       "      <th>1</th>\n",
       "      <td>1</td>\n",
       "      <td>1.24</td>\n",
       "      <td>Premium</td>\n",
       "      <td>I</td>\n",
       "      <td>SI1</td>\n",
       "      <td>62.9</td>\n",
       "      <td>60.0</td>\n",
       "      <td>6.80</td>\n",
       "      <td>6.74</td>\n",
       "      <td>4.26</td>\n",
       "    </tr>\n",
       "    <tr>\n",
       "      <th>2</th>\n",
       "      <td>2</td>\n",
       "      <td>1.66</td>\n",
       "      <td>Premium</td>\n",
       "      <td>D</td>\n",
       "      <td>SI1</td>\n",
       "      <td>62.0</td>\n",
       "      <td>59.0</td>\n",
       "      <td>7.55</td>\n",
       "      <td>7.60</td>\n",
       "      <td>4.70</td>\n",
       "    </tr>\n",
       "    <tr>\n",
       "      <th>3</th>\n",
       "      <td>3</td>\n",
       "      <td>0.75</td>\n",
       "      <td>Premium</td>\n",
       "      <td>D</td>\n",
       "      <td>SI2</td>\n",
       "      <td>60.6</td>\n",
       "      <td>56.0</td>\n",
       "      <td>5.94</td>\n",
       "      <td>5.90</td>\n",
       "      <td>3.59</td>\n",
       "    </tr>\n",
       "    <tr>\n",
       "      <th>4</th>\n",
       "      <td>4</td>\n",
       "      <td>1.50</td>\n",
       "      <td>Fair</td>\n",
       "      <td>E</td>\n",
       "      <td>SI2</td>\n",
       "      <td>64.8</td>\n",
       "      <td>55.0</td>\n",
       "      <td>7.26</td>\n",
       "      <td>7.15</td>\n",
       "      <td>4.67</td>\n",
       "    </tr>\n",
       "    <tr>\n",
       "      <th>...</th>\n",
       "      <td>...</td>\n",
       "      <td>...</td>\n",
       "      <td>...</td>\n",
       "      <td>...</td>\n",
       "      <td>...</td>\n",
       "      <td>...</td>\n",
       "      <td>...</td>\n",
       "      <td>...</td>\n",
       "      <td>...</td>\n",
       "      <td>...</td>\n",
       "    </tr>\n",
       "    <tr>\n",
       "      <th>13480</th>\n",
       "      <td>13480</td>\n",
       "      <td>1.10</td>\n",
       "      <td>Premium</td>\n",
       "      <td>G</td>\n",
       "      <td>SI1</td>\n",
       "      <td>59.6</td>\n",
       "      <td>60.0</td>\n",
       "      <td>6.74</td>\n",
       "      <td>6.70</td>\n",
       "      <td>4.00</td>\n",
       "    </tr>\n",
       "    <tr>\n",
       "      <th>13481</th>\n",
       "      <td>13481</td>\n",
       "      <td>0.90</td>\n",
       "      <td>Very Good</td>\n",
       "      <td>D</td>\n",
       "      <td>SI1</td>\n",
       "      <td>62.1</td>\n",
       "      <td>60.0</td>\n",
       "      <td>6.14</td>\n",
       "      <td>6.20</td>\n",
       "      <td>3.83</td>\n",
       "    </tr>\n",
       "    <tr>\n",
       "      <th>13482</th>\n",
       "      <td>13482</td>\n",
       "      <td>0.30</td>\n",
       "      <td>Ideal</td>\n",
       "      <td>F</td>\n",
       "      <td>VS2</td>\n",
       "      <td>62.1</td>\n",
       "      <td>53.3</td>\n",
       "      <td>4.30</td>\n",
       "      <td>4.32</td>\n",
       "      <td>2.68</td>\n",
       "    </tr>\n",
       "    <tr>\n",
       "      <th>13483</th>\n",
       "      <td>13483</td>\n",
       "      <td>1.25</td>\n",
       "      <td>Ideal</td>\n",
       "      <td>I</td>\n",
       "      <td>SI1</td>\n",
       "      <td>59.6</td>\n",
       "      <td>59.0</td>\n",
       "      <td>7.01</td>\n",
       "      <td>7.09</td>\n",
       "      <td>4.20</td>\n",
       "    </tr>\n",
       "    <tr>\n",
       "      <th>13484</th>\n",
       "      <td>13484</td>\n",
       "      <td>0.81</td>\n",
       "      <td>Premium</td>\n",
       "      <td>F</td>\n",
       "      <td>SI1</td>\n",
       "      <td>61.6</td>\n",
       "      <td>58.0</td>\n",
       "      <td>5.96</td>\n",
       "      <td>5.92</td>\n",
       "      <td>3.66</td>\n",
       "    </tr>\n",
       "  </tbody>\n",
       "</table>\n",
       "<p>13485 rows × 10 columns</p>\n",
       "</div>"
      ],
      "text/plain": [
       "          id  carat        cut color clarity  depth  table     x     y     z\n",
       "0          0   0.32      Ideal     I     SI1   60.5   58.0  4.43  4.49  2.70\n",
       "1          1   1.24    Premium     I     SI1   62.9   60.0  6.80  6.74  4.26\n",
       "2          2   1.66    Premium     D     SI1   62.0   59.0  7.55  7.60  4.70\n",
       "3          3   0.75    Premium     D     SI2   60.6   56.0  5.94  5.90  3.59\n",
       "4          4   1.50       Fair     E     SI2   64.8   55.0  7.26  7.15  4.67\n",
       "...      ...    ...        ...   ...     ...    ...    ...   ...   ...   ...\n",
       "13480  13480   1.10    Premium     G     SI1   59.6   60.0  6.74  6.70  4.00\n",
       "13481  13481   0.90  Very Good     D     SI1   62.1   60.0  6.14  6.20  3.83\n",
       "13482  13482   0.30      Ideal     F     VS2   62.1   53.3  4.30  4.32  2.68\n",
       "13483  13483   1.25      Ideal     I     SI1   59.6   59.0  7.01  7.09  4.20\n",
       "13484  13484   0.81    Premium     F     SI1   61.6   58.0  5.96  5.92  3.66\n",
       "\n",
       "[13485 rows x 10 columns]"
      ]
     },
     "execution_count": 183,
     "metadata": {},
     "output_type": "execute_result"
    }
   ],
   "source": [
    "df2\n"
   ]
  },
  {
   "cell_type": "code",
   "execution_count": 184,
   "id": "1f3e5393",
   "metadata": {},
   "outputs": [],
   "source": [
    "df2.cut = df2.cut.map(diamond_cut_rank)"
   ]
  },
  {
   "cell_type": "code",
   "execution_count": 185,
   "id": "d6bf4eb1",
   "metadata": {},
   "outputs": [],
   "source": [
    "df2.color = df2.color.map(diamond_color_rank)"
   ]
  },
  {
   "cell_type": "code",
   "execution_count": 186,
   "id": "45cf13e9",
   "metadata": {},
   "outputs": [],
   "source": [
    "df2.clarity = df2.clarity.map(diamond_clarity_rank)"
   ]
  },
  {
   "cell_type": "markdown",
   "id": "904b35a8",
   "metadata": {},
   "source": [
    "## Initial exploration"
   ]
  },
  {
   "cell_type": "code",
   "execution_count": 187,
   "id": "b2f84729",
   "metadata": {},
   "outputs": [
    {
     "data": {
      "text/html": [
       "<div>\n",
       "<style scoped>\n",
       "    .dataframe tbody tr th:only-of-type {\n",
       "        vertical-align: middle;\n",
       "    }\n",
       "\n",
       "    .dataframe tbody tr th {\n",
       "        vertical-align: top;\n",
       "    }\n",
       "\n",
       "    .dataframe thead th {\n",
       "        text-align: right;\n",
       "    }\n",
       "</style>\n",
       "<table border=\"1\" class=\"dataframe\">\n",
       "  <thead>\n",
       "    <tr style=\"text-align: right;\">\n",
       "      <th></th>\n",
       "      <th>id</th>\n",
       "      <th>carat</th>\n",
       "      <th>cut</th>\n",
       "      <th>color</th>\n",
       "      <th>clarity</th>\n",
       "      <th>depth</th>\n",
       "      <th>table</th>\n",
       "      <th>x</th>\n",
       "      <th>y</th>\n",
       "      <th>z</th>\n",
       "      <th>price</th>\n",
       "    </tr>\n",
       "  </thead>\n",
       "  <tbody>\n",
       "    <tr>\n",
       "      <th>0</th>\n",
       "      <td>0</td>\n",
       "      <td>0.30</td>\n",
       "      <td>Premium</td>\n",
       "      <td>D</td>\n",
       "      <td>SI2</td>\n",
       "      <td>62.4</td>\n",
       "      <td>58.0</td>\n",
       "      <td>4.31</td>\n",
       "      <td>4.28</td>\n",
       "      <td>2.68</td>\n",
       "      <td>6.353</td>\n",
       "    </tr>\n",
       "    <tr>\n",
       "      <th>1</th>\n",
       "      <td>1</td>\n",
       "      <td>1.01</td>\n",
       "      <td>Ideal</td>\n",
       "      <td>E</td>\n",
       "      <td>VVS2</td>\n",
       "      <td>62.7</td>\n",
       "      <td>56.0</td>\n",
       "      <td>6.42</td>\n",
       "      <td>6.46</td>\n",
       "      <td>4.04</td>\n",
       "      <td>9.183</td>\n",
       "    </tr>\n",
       "    <tr>\n",
       "      <th>2</th>\n",
       "      <td>2</td>\n",
       "      <td>0.72</td>\n",
       "      <td>Ideal</td>\n",
       "      <td>F</td>\n",
       "      <td>VS2</td>\n",
       "      <td>61.8</td>\n",
       "      <td>59.0</td>\n",
       "      <td>5.71</td>\n",
       "      <td>5.74</td>\n",
       "      <td>3.54</td>\n",
       "      <td>7.983</td>\n",
       "    </tr>\n",
       "    <tr>\n",
       "      <th>3</th>\n",
       "      <td>3</td>\n",
       "      <td>1.08</td>\n",
       "      <td>Very Good</td>\n",
       "      <td>G</td>\n",
       "      <td>SI2</td>\n",
       "      <td>63.2</td>\n",
       "      <td>57.0</td>\n",
       "      <td>6.54</td>\n",
       "      <td>6.50</td>\n",
       "      <td>4.12</td>\n",
       "      <td>8.371</td>\n",
       "    </tr>\n",
       "    <tr>\n",
       "      <th>4</th>\n",
       "      <td>4</td>\n",
       "      <td>0.36</td>\n",
       "      <td>Premium</td>\n",
       "      <td>G</td>\n",
       "      <td>VS1</td>\n",
       "      <td>62.3</td>\n",
       "      <td>59.0</td>\n",
       "      <td>4.50</td>\n",
       "      <td>4.55</td>\n",
       "      <td>2.82</td>\n",
       "      <td>6.588</td>\n",
       "    </tr>\n",
       "  </tbody>\n",
       "</table>\n",
       "</div>"
      ],
      "text/plain": [
       "   id  carat        cut color clarity  depth  table     x     y     z  price\n",
       "0   0   0.30    Premium     D     SI2   62.4   58.0  4.31  4.28  2.68  6.353\n",
       "1   1   1.01      Ideal     E    VVS2   62.7   56.0  6.42  6.46  4.04  9.183\n",
       "2   2   0.72      Ideal     F     VS2   61.8   59.0  5.71  5.74  3.54  7.983\n",
       "3   3   1.08  Very Good     G     SI2   63.2   57.0  6.54  6.50  4.12  8.371\n",
       "4   4   0.36    Premium     G     VS1   62.3   59.0  4.50  4.55  2.82  6.588"
      ]
     },
     "execution_count": 187,
     "metadata": {},
     "output_type": "execute_result"
    }
   ],
   "source": [
    "df.head()"
   ]
  },
  {
   "cell_type": "code",
   "execution_count": 188,
   "id": "02dace82",
   "metadata": {},
   "outputs": [
    {
     "data": {
      "text/plain": [
       "(40455, 11)"
      ]
     },
     "execution_count": 188,
     "metadata": {},
     "output_type": "execute_result"
    }
   ],
   "source": [
    "df.shape"
   ]
  },
  {
   "cell_type": "code",
   "execution_count": 189,
   "id": "c91061c1",
   "metadata": {},
   "outputs": [
    {
     "data": {
      "text/plain": [
       "Index(['id', 'carat', 'cut', 'color', 'clarity', 'depth', 'table', 'x', 'y',\n",
       "       'z', 'price'],\n",
       "      dtype='object')"
      ]
     },
     "execution_count": 189,
     "metadata": {},
     "output_type": "execute_result"
    }
   ],
   "source": [
    "df.columns"
   ]
  },
  {
   "cell_type": "code",
   "execution_count": 190,
   "id": "cee661ba",
   "metadata": {},
   "outputs": [
    {
     "data": {
      "text/plain": [
       "id         0\n",
       "carat      0\n",
       "cut        0\n",
       "color      0\n",
       "clarity    0\n",
       "depth      0\n",
       "table      0\n",
       "x          0\n",
       "y          0\n",
       "z          0\n",
       "price      0\n",
       "dtype: int64"
      ]
     },
     "execution_count": 190,
     "metadata": {},
     "output_type": "execute_result"
    }
   ],
   "source": [
    "df.isna().sum()"
   ]
  },
  {
   "cell_type": "code",
   "execution_count": 191,
   "id": "6406d172",
   "metadata": {},
   "outputs": [
    {
     "data": {
      "text/plain": [
       "id           int64\n",
       "carat      float64\n",
       "cut         object\n",
       "color       object\n",
       "clarity     object\n",
       "depth      float64\n",
       "table      float64\n",
       "x          float64\n",
       "y          float64\n",
       "z          float64\n",
       "price      float64\n",
       "dtype: object"
      ]
     },
     "execution_count": 191,
     "metadata": {},
     "output_type": "execute_result"
    }
   ],
   "source": [
    "df.dtypes"
   ]
  },
  {
   "cell_type": "code",
   "execution_count": 192,
   "id": "80ac7a7c",
   "metadata": {},
   "outputs": [
    {
     "data": {
      "text/plain": [
       "<AxesSubplot:xlabel='price', ylabel='Count'>"
      ]
     },
     "execution_count": 192,
     "metadata": {},
     "output_type": "execute_result"
    },
    {
     "data": {
      "image/png": "[encoded data removed]",
      "text/plain": [
       "<Figure size 432x288 with 1 Axes>"
      ]
     },
     "metadata": {
      "needs_background": "light"
     },
     "output_type": "display_data"
    }
   ],
   "source": [
    "sns.histplot(df.price)"
   ]
  },
  {
   "cell_type": "markdown",
   "id": "b1b392e1",
   "metadata": {},
   "source": [
    "## Feature engineering"
   ]
  },
  {
   "cell_type": "markdown",
   "id": "1a3d47c2",
   "metadata": {},
   "source": [
    "### Diamonds cut"
   ]
  },
  {
   "cell_type": "code",
   "execution_count": 193,
   "id": "8fffc0ad",
   "metadata": {},
   "outputs": [
    {
     "data": {
      "text/plain": [
       "Ideal        16230\n",
       "Premium      10338\n",
       "Very Good     9003\n",
       "Good          3682\n",
       "Fair          1202\n",
       "Name: cut, dtype: int64"
      ]
     },
     "execution_count": 193,
     "metadata": {},
     "output_type": "execute_result"
    }
   ],
   "source": [
    "df.cut.value_counts()"
   ]
  },
  {
   "cell_type": "code",
   "execution_count": 194,
   "id": "bdd1d194",
   "metadata": {},
   "outputs": [],
   "source": [
    "diamond_cut_rank = {\n",
    "    'Ideal': 5, \n",
    "    'Premium': 4, \n",
    "    'Very Good': 3, \n",
    "    'Good': 2,\n",
    "    'Fair' : 1\n",
    "}"
   ]
  },
  {
   "cell_type": "code",
   "execution_count": 195,
   "id": "735d3611",
   "metadata": {},
   "outputs": [],
   "source": [
    "df.cut = df.cut.map(diamond_cut_rank)"
   ]
  },
  {
   "cell_type": "code",
   "execution_count": 196,
   "id": "1d1a4d4b",
   "metadata": {},
   "outputs": [
    {
     "data": {
      "text/plain": [
       "5    16230\n",
       "4    10338\n",
       "3     9003\n",
       "2     3682\n",
       "1     1202\n",
       "Name: cut, dtype: int64"
      ]
     },
     "execution_count": 196,
     "metadata": {},
     "output_type": "execute_result"
    }
   ],
   "source": [
    "df.cut.value_counts()"
   ]
  },
  {
   "cell_type": "markdown",
   "id": "4474afa7",
   "metadata": {},
   "source": [
    "### Diamond color"
   ]
  },
  {
   "cell_type": "code",
   "execution_count": 197,
   "id": "828a2b99",
   "metadata": {},
   "outputs": [
    {
     "data": {
      "text/plain": [
       "G    8410\n",
       "E    7368\n",
       "F    7182\n",
       "H    6203\n",
       "D    5100\n",
       "I    4070\n",
       "J    2122\n",
       "Name: color, dtype: int64"
      ]
     },
     "execution_count": 197,
     "metadata": {},
     "output_type": "execute_result"
    }
   ],
   "source": [
    "df.color.value_counts()"
   ]
  },
  {
   "cell_type": "code",
   "execution_count": 198,
   "id": "251157a1",
   "metadata": {},
   "outputs": [],
   "source": [
    "diamond_color_rank = {\n",
    "    'D': 7, \n",
    "    'E': 6, \n",
    "    'F': 5, \n",
    "    'G': 4,\n",
    "    'H': 3,\n",
    "    'I': 2,\n",
    "    'J': 1\n",
    "}"
   ]
  },
  {
   "cell_type": "code",
   "execution_count": 199,
   "id": "c5714287",
   "metadata": {},
   "outputs": [],
   "source": [
    "df.color = df.color.map(diamond_color_rank)"
   ]
  },
  {
   "cell_type": "code",
   "execution_count": 200,
   "id": "bf6bf723",
   "metadata": {},
   "outputs": [
    {
     "data": {
      "text/plain": [
       "4    8410\n",
       "6    7368\n",
       "5    7182\n",
       "3    6203\n",
       "7    5100\n",
       "2    4070\n",
       "1    2122\n",
       "Name: color, dtype: int64"
      ]
     },
     "execution_count": 200,
     "metadata": {},
     "output_type": "execute_result"
    }
   ],
   "source": [
    "df.color.value_counts()"
   ]
  },
  {
   "cell_type": "markdown",
   "id": "3e818c2a",
   "metadata": {},
   "source": [
    "## Diamond Clarity"
   ]
  },
  {
   "cell_type": "code",
   "execution_count": 201,
   "id": "a50f1eda",
   "metadata": {},
   "outputs": [
    {
     "data": {
      "text/plain": [
       "SI1     9779\n",
       "VS2     9259\n",
       "SI2     6921\n",
       "VS1     6079\n",
       "VVS2    3745\n",
       "VVS1    2807\n",
       "IF      1312\n",
       "I1       553\n",
       "Name: clarity, dtype: int64"
      ]
     },
     "execution_count": 201,
     "metadata": {},
     "output_type": "execute_result"
    }
   ],
   "source": [
    "df.clarity.value_counts()"
   ]
  },
  {
   "cell_type": "code",
   "execution_count": 202,
   "id": "4d084f50",
   "metadata": {},
   "outputs": [],
   "source": [
    "diamond_clarity_rank = {\n",
    "    'FL': 9, \n",
    "    'IF': 8, \n",
    "    'VVS1': 7, \n",
    "    'VVS2': 6,\n",
    "    'VS1': 5,\n",
    "    'VS2': 4,\n",
    "    'SI1': 3,\n",
    "    'SI2': 2,\n",
    "    'I1': 1\n",
    "}"
   ]
  },
  {
   "cell_type": "code",
   "execution_count": 203,
   "id": "b34af95e",
   "metadata": {},
   "outputs": [],
   "source": [
    "df.clarity = df.clarity.map(diamond_clarity_rank)"
   ]
  },
  {
   "cell_type": "markdown",
   "id": "bbd9bbe7",
   "metadata": {},
   "source": [
    "### Making sure all variables are now numeric values."
   ]
  },
  {
   "cell_type": "code",
   "execution_count": 204,
   "id": "1ff343bc",
   "metadata": {},
   "outputs": [
    {
     "data": {
      "text/html": [
       "<div>\n",
       "<style scoped>\n",
       "    .dataframe tbody tr th:only-of-type {\n",
       "        vertical-align: middle;\n",
       "    }\n",
       "\n",
       "    .dataframe tbody tr th {\n",
       "        vertical-align: top;\n",
       "    }\n",
       "\n",
       "    .dataframe thead th {\n",
       "        text-align: right;\n",
       "    }\n",
       "</style>\n",
       "<table border=\"1\" class=\"dataframe\">\n",
       "  <thead>\n",
       "    <tr style=\"text-align: right;\">\n",
       "      <th></th>\n",
       "      <th>id</th>\n",
       "      <th>carat</th>\n",
       "      <th>cut</th>\n",
       "      <th>color</th>\n",
       "      <th>clarity</th>\n",
       "      <th>depth</th>\n",
       "      <th>table</th>\n",
       "      <th>x</th>\n",
       "      <th>y</th>\n",
       "      <th>z</th>\n",
       "      <th>price</th>\n",
       "    </tr>\n",
       "  </thead>\n",
       "  <tbody>\n",
       "    <tr>\n",
       "      <th>0</th>\n",
       "      <td>0</td>\n",
       "      <td>0.30</td>\n",
       "      <td>4</td>\n",
       "      <td>7</td>\n",
       "      <td>2</td>\n",
       "      <td>62.4</td>\n",
       "      <td>58.0</td>\n",
       "      <td>4.31</td>\n",
       "      <td>4.28</td>\n",
       "      <td>2.68</td>\n",
       "      <td>6.353</td>\n",
       "    </tr>\n",
       "    <tr>\n",
       "      <th>1</th>\n",
       "      <td>1</td>\n",
       "      <td>1.01</td>\n",
       "      <td>5</td>\n",
       "      <td>6</td>\n",
       "      <td>6</td>\n",
       "      <td>62.7</td>\n",
       "      <td>56.0</td>\n",
       "      <td>6.42</td>\n",
       "      <td>6.46</td>\n",
       "      <td>4.04</td>\n",
       "      <td>9.183</td>\n",
       "    </tr>\n",
       "    <tr>\n",
       "      <th>2</th>\n",
       "      <td>2</td>\n",
       "      <td>0.72</td>\n",
       "      <td>5</td>\n",
       "      <td>5</td>\n",
       "      <td>4</td>\n",
       "      <td>61.8</td>\n",
       "      <td>59.0</td>\n",
       "      <td>5.71</td>\n",
       "      <td>5.74</td>\n",
       "      <td>3.54</td>\n",
       "      <td>7.983</td>\n",
       "    </tr>\n",
       "    <tr>\n",
       "      <th>3</th>\n",
       "      <td>3</td>\n",
       "      <td>1.08</td>\n",
       "      <td>3</td>\n",
       "      <td>4</td>\n",
       "      <td>2</td>\n",
       "      <td>63.2</td>\n",
       "      <td>57.0</td>\n",
       "      <td>6.54</td>\n",
       "      <td>6.50</td>\n",
       "      <td>4.12</td>\n",
       "      <td>8.371</td>\n",
       "    </tr>\n",
       "    <tr>\n",
       "      <th>4</th>\n",
       "      <td>4</td>\n",
       "      <td>0.36</td>\n",
       "      <td>4</td>\n",
       "      <td>4</td>\n",
       "      <td>5</td>\n",
       "      <td>62.3</td>\n",
       "      <td>59.0</td>\n",
       "      <td>4.50</td>\n",
       "      <td>4.55</td>\n",
       "      <td>2.82</td>\n",
       "      <td>6.588</td>\n",
       "    </tr>\n",
       "  </tbody>\n",
       "</table>\n",
       "</div>"
      ],
      "text/plain": [
       "   id  carat  cut  color  clarity  depth  table     x     y     z  price\n",
       "0   0   0.30    4      7        2   62.4   58.0  4.31  4.28  2.68  6.353\n",
       "1   1   1.01    5      6        6   62.7   56.0  6.42  6.46  4.04  9.183\n",
       "2   2   0.72    5      5        4   61.8   59.0  5.71  5.74  3.54  7.983\n",
       "3   3   1.08    3      4        2   63.2   57.0  6.54  6.50  4.12  8.371\n",
       "4   4   0.36    4      4        5   62.3   59.0  4.50  4.55  2.82  6.588"
      ]
     },
     "execution_count": 204,
     "metadata": {},
     "output_type": "execute_result"
    }
   ],
   "source": [
    "df.head()"
   ]
  },
  {
   "cell_type": "code",
   "execution_count": 205,
   "id": "3cf09872",
   "metadata": {},
   "outputs": [
    {
     "data": {
      "text/plain": [
       "id           int64\n",
       "carat      float64\n",
       "cut          int64\n",
       "color        int64\n",
       "clarity      int64\n",
       "depth      float64\n",
       "table      float64\n",
       "x          float64\n",
       "y          float64\n",
       "z          float64\n",
       "price      float64\n",
       "dtype: object"
      ]
     },
     "execution_count": 205,
     "metadata": {},
     "output_type": "execute_result"
    }
   ],
   "source": [
    "df.dtypes"
   ]
  },
  {
   "cell_type": "code",
   "execution_count": 206,
   "id": "c29f8e6c",
   "metadata": {},
   "outputs": [
    {
     "data": {
      "text/html": [
       "<div>\n",
       "<style scoped>\n",
       "    .dataframe tbody tr th:only-of-type {\n",
       "        vertical-align: middle;\n",
       "    }\n",
       "\n",
       "    .dataframe tbody tr th {\n",
       "        vertical-align: top;\n",
       "    }\n",
       "\n",
       "    .dataframe thead th {\n",
       "        text-align: right;\n",
       "    }\n",
       "</style>\n",
       "<table border=\"1\" class=\"dataframe\">\n",
       "  <thead>\n",
       "    <tr style=\"text-align: right;\">\n",
       "      <th></th>\n",
       "      <th>id</th>\n",
       "      <th>carat</th>\n",
       "      <th>cut</th>\n",
       "      <th>color</th>\n",
       "      <th>clarity</th>\n",
       "      <th>depth</th>\n",
       "      <th>table</th>\n",
       "      <th>x</th>\n",
       "      <th>y</th>\n",
       "      <th>z</th>\n",
       "      <th>price</th>\n",
       "    </tr>\n",
       "  </thead>\n",
       "  <tbody>\n",
       "    <tr>\n",
       "      <th>id</th>\n",
       "      <td>1.000000</td>\n",
       "      <td>-0.003045</td>\n",
       "      <td>-0.000372</td>\n",
       "      <td>0.003016</td>\n",
       "      <td>0.004427</td>\n",
       "      <td>-0.000405</td>\n",
       "      <td>0.000783</td>\n",
       "      <td>-0.002447</td>\n",
       "      <td>-0.001936</td>\n",
       "      <td>-0.001273</td>\n",
       "      <td>-0.003194</td>\n",
       "    </tr>\n",
       "    <tr>\n",
       "      <th>carat</th>\n",
       "      <td>-0.003045</td>\n",
       "      <td>1.000000</td>\n",
       "      <td>-0.131069</td>\n",
       "      <td>-0.293307</td>\n",
       "      <td>-0.353255</td>\n",
       "      <td>0.023585</td>\n",
       "      <td>0.185478</td>\n",
       "      <td>0.974648</td>\n",
       "      <td>0.944419</td>\n",
       "      <td>0.947469</td>\n",
       "      <td>0.920064</td>\n",
       "    </tr>\n",
       "    <tr>\n",
       "      <th>cut</th>\n",
       "      <td>-0.000372</td>\n",
       "      <td>-0.131069</td>\n",
       "      <td>1.000000</td>\n",
       "      <td>0.017590</td>\n",
       "      <td>0.188554</td>\n",
       "      <td>-0.215352</td>\n",
       "      <td>-0.431195</td>\n",
       "      <td>-0.122895</td>\n",
       "      <td>-0.117832</td>\n",
       "      <td>-0.145396</td>\n",
       "      <td>-0.084878</td>\n",
       "    </tr>\n",
       "    <tr>\n",
       "      <th>color</th>\n",
       "      <td>0.003016</td>\n",
       "      <td>-0.293307</td>\n",
       "      <td>0.017590</td>\n",
       "      <td>1.000000</td>\n",
       "      <td>-0.023444</td>\n",
       "      <td>-0.047839</td>\n",
       "      <td>-0.028516</td>\n",
       "      <td>-0.272222</td>\n",
       "      <td>-0.263498</td>\n",
       "      <td>-0.268702</td>\n",
       "      <td>-0.157426</td>\n",
       "    </tr>\n",
       "    <tr>\n",
       "      <th>clarity</th>\n",
       "      <td>0.004427</td>\n",
       "      <td>-0.353255</td>\n",
       "      <td>0.188554</td>\n",
       "      <td>-0.023444</td>\n",
       "      <td>1.000000</td>\n",
       "      <td>-0.066904</td>\n",
       "      <td>-0.161419</td>\n",
       "      <td>-0.371745</td>\n",
       "      <td>-0.355509</td>\n",
       "      <td>-0.364293</td>\n",
       "      <td>-0.213649</td>\n",
       "    </tr>\n",
       "    <tr>\n",
       "      <th>depth</th>\n",
       "      <td>-0.000405</td>\n",
       "      <td>0.023585</td>\n",
       "      <td>-0.215352</td>\n",
       "      <td>-0.047839</td>\n",
       "      <td>-0.066904</td>\n",
       "      <td>1.000000</td>\n",
       "      <td>-0.299203</td>\n",
       "      <td>-0.029867</td>\n",
       "      <td>-0.033960</td>\n",
       "      <td>0.089474</td>\n",
       "      <td>-0.003292</td>\n",
       "    </tr>\n",
       "    <tr>\n",
       "      <th>table</th>\n",
       "      <td>0.000783</td>\n",
       "      <td>0.185478</td>\n",
       "      <td>-0.431195</td>\n",
       "      <td>-0.028516</td>\n",
       "      <td>-0.161419</td>\n",
       "      <td>-0.299203</td>\n",
       "      <td>1.000000</td>\n",
       "      <td>0.200374</td>\n",
       "      <td>0.186788</td>\n",
       "      <td>0.153726</td>\n",
       "      <td>0.162804</td>\n",
       "    </tr>\n",
       "    <tr>\n",
       "      <th>x</th>\n",
       "      <td>-0.002447</td>\n",
       "      <td>0.974648</td>\n",
       "      <td>-0.122895</td>\n",
       "      <td>-0.272222</td>\n",
       "      <td>-0.371745</td>\n",
       "      <td>-0.029867</td>\n",
       "      <td>0.200374</td>\n",
       "      <td>1.000000</td>\n",
       "      <td>0.967315</td>\n",
       "      <td>0.965496</td>\n",
       "      <td>0.957668</td>\n",
       "    </tr>\n",
       "    <tr>\n",
       "      <th>y</th>\n",
       "      <td>-0.001936</td>\n",
       "      <td>0.944419</td>\n",
       "      <td>-0.117832</td>\n",
       "      <td>-0.263498</td>\n",
       "      <td>-0.355509</td>\n",
       "      <td>-0.033960</td>\n",
       "      <td>0.186788</td>\n",
       "      <td>0.967315</td>\n",
       "      <td>1.000000</td>\n",
       "      <td>0.941176</td>\n",
       "      <td>0.928909</td>\n",
       "    </tr>\n",
       "    <tr>\n",
       "      <th>z</th>\n",
       "      <td>-0.001273</td>\n",
       "      <td>0.947469</td>\n",
       "      <td>-0.145396</td>\n",
       "      <td>-0.268702</td>\n",
       "      <td>-0.364293</td>\n",
       "      <td>0.089474</td>\n",
       "      <td>0.153726</td>\n",
       "      <td>0.965496</td>\n",
       "      <td>0.941176</td>\n",
       "      <td>1.000000</td>\n",
       "      <td>0.930014</td>\n",
       "    </tr>\n",
       "    <tr>\n",
       "      <th>price</th>\n",
       "      <td>-0.003194</td>\n",
       "      <td>0.920064</td>\n",
       "      <td>-0.084878</td>\n",
       "      <td>-0.157426</td>\n",
       "      <td>-0.213649</td>\n",
       "      <td>-0.003292</td>\n",
       "      <td>0.162804</td>\n",
       "      <td>0.957668</td>\n",
       "      <td>0.928909</td>\n",
       "      <td>0.930014</td>\n",
       "      <td>1.000000</td>\n",
       "    </tr>\n",
       "  </tbody>\n",
       "</table>\n",
       "</div>"
      ],
      "text/plain": [
       "               id     carat       cut     color   clarity     depth     table  \\\n",
       "id       1.000000 -0.003045 -0.000372  0.003016  0.004427 -0.000405  0.000783   \n",
       "carat   -0.003045  1.000000 -0.131069 -0.293307 -0.353255  0.023585  0.185478   \n",
       "cut     -0.000372 -0.131069  1.000000  0.017590  0.188554 -0.215352 -0.431195   \n",
       "color    0.003016 -0.293307  0.017590  1.000000 -0.023444 -0.047839 -0.028516   \n",
       "clarity  0.004427 -0.353255  0.188554 -0.023444  1.000000 -0.066904 -0.161419   \n",
       "depth   -0.000405  0.023585 -0.215352 -0.047839 -0.066904  1.000000 -0.299203   \n",
       "table    0.000783  0.185478 -0.431195 -0.028516 -0.161419 -0.299203  1.000000   \n",
       "x       -0.002447  0.974648 -0.122895 -0.272222 -0.371745 -0.029867  0.200374   \n",
       "y       -0.001936  0.944419 -0.117832 -0.263498 -0.355509 -0.033960  0.186788   \n",
       "z       -0.001273  0.947469 -0.145396 -0.268702 -0.364293  0.089474  0.153726   \n",
       "price   -0.003194  0.920064 -0.084878 -0.157426 -0.213649 -0.003292  0.162804   \n",
       "\n",
       "                x         y         z     price  \n",
       "id      -0.002447 -0.001936 -0.001273 -0.003194  \n",
       "carat    0.974648  0.944419  0.947469  0.920064  \n",
       "cut     -0.122895 -0.117832 -0.145396 -0.084878  \n",
       "color   -0.272222 -0.263498 -0.268702 -0.157426  \n",
       "clarity -0.371745 -0.355509 -0.364293 -0.213649  \n",
       "depth   -0.029867 -0.033960  0.089474 -0.003292  \n",
       "table    0.200374  0.186788  0.153726  0.162804  \n",
       "x        1.000000  0.967315  0.965496  0.957668  \n",
       "y        0.967315  1.000000  0.941176  0.928909  \n",
       "z        0.965496  0.941176  1.000000  0.930014  \n",
       "price    0.957668  0.928909  0.930014  1.000000  "
      ]
     },
     "execution_count": 206,
     "metadata": {},
     "output_type": "execute_result"
    }
   ],
   "source": [
    "df.corr()"
   ]
  },
  {
   "cell_type": "code",
   "execution_count": 211,
   "id": "f108314f",
   "metadata": {},
   "outputs": [],
   "source": [
    "df.to_csv(\"train_clean.csv\",index=False)"
   ]
  },
  {
   "cell_type": "code",
   "execution_count": 210,
   "id": "5e45237b",
   "metadata": {},
   "outputs": [],
   "source": [
    "df2.to_csv(\"test_clean.csv\",index=False)"
   ]
  }
 ],
 "metadata": {
  "kernelspec": {
   "display_name": "Python 3 (ipykernel)",
   "language": "python",
   "name": "python3"
  },
  "language_info": {
   "codemirror_mode": {
    "name": "ipython",
    "version": 3
   },
   "file_extension": ".py",
   "mimetype": "text/x-python",
   "name": "python",
   "nbconvert_exporter": "python",
   "pygments_lexer": "ipython3",
   "version": "3.8.10"
  }
 },
 "nbformat": 4,
 "nbformat_minor": 5
}
