{
 "cells": [
  {
   "cell_type": "markdown",
   "id": "f8004c34",
   "metadata": {},
   "source": [
    "# Models"
   ]
  },
  {
   "cell_type": "markdown",
   "id": "0de765b2",
   "metadata": {},
   "source": [
    "## Imports"
   ]
  },
  {
   "cell_type": "code",
   "execution_count": 58,
   "id": "e12e551e",
   "metadata": {},
   "outputs": [],
   "source": [
    "import pandas as pd\n",
    "from sklearn.model_selection import train_test_split\n",
    "from sklearn.linear_model import LinearRegression\n",
    "from sklearn import metrics\n",
    "from sklearn.metrics import mean_squared_error\n",
    "from math import sqrt\n",
    "import numpy as np\n",
    "from sklearn.tree import DecisionTreeRegressor\n",
    "from sklearn.ensemble import RandomForestRegressor\n",
    "from xgboost import XGBRegressor\n",
    "from xgboost import XGBClassifier\n",
    "from sklearn.metrics import accuracy_score\n",
    "from catboost import CatBoostRegressor\n",
    "from sklearn.model_selection import cross_val_score\n"
   ]
  },
  {
   "cell_type": "code",
   "execution_count": 2,
   "id": "2c03e651",
   "metadata": {},
   "outputs": [],
   "source": [
    "df = pd.read_csv('./train_clean.csv')"
   ]
  },
  {
   "cell_type": "code",
   "execution_count": 45,
   "id": "655da3a2",
   "metadata": {},
   "outputs": [],
   "source": [
    "df5 = pd.read_csv('./test_clean.csv')"
   ]
  },
  {
   "cell_type": "markdown",
   "id": "91dcd8b6",
   "metadata": {},
   "source": [
    "## Linear regression model"
   ]
  },
  {
   "cell_type": "code",
   "execution_count": 4,
   "id": "1115841b",
   "metadata": {},
   "outputs": [],
   "source": [
    "X = df.drop([\"price\"], axis = 1)"
   ]
  },
  {
   "cell_type": "code",
   "execution_count": 5,
   "id": "28ecadf5",
   "metadata": {},
   "outputs": [],
   "source": [
    "y = df.price"
   ]
  },
  {
   "cell_type": "code",
   "execution_count": 6,
   "id": "8ab5137d",
   "metadata": {},
   "outputs": [],
   "source": [
    "X_train, X_test, y_train, y_test = train_test_split(X, y, test_size=0.2, random_state=111)"
   ]
  },
  {
   "cell_type": "code",
   "execution_count": 7,
   "id": "d8a93c2a",
   "metadata": {},
   "outputs": [
    {
     "data": {
      "text/plain": [
       "(32364, 10)"
      ]
     },
     "execution_count": 7,
     "metadata": {},
     "output_type": "execute_result"
    }
   ],
   "source": [
    "X_train.shape\n"
   ]
  },
  {
   "cell_type": "code",
   "execution_count": 8,
   "id": "18060a07",
   "metadata": {},
   "outputs": [
    {
     "data": {
      "text/plain": [
       "(32364,)"
      ]
     },
     "execution_count": 8,
     "metadata": {},
     "output_type": "execute_result"
    }
   ],
   "source": [
    "y_train.shape"
   ]
  },
  {
   "cell_type": "code",
   "execution_count": 9,
   "id": "bb14f06c",
   "metadata": {},
   "outputs": [
    {
     "data": {
      "text/plain": [
       "(8091, 10)"
      ]
     },
     "execution_count": 9,
     "metadata": {},
     "output_type": "execute_result"
    }
   ],
   "source": [
    "X_test.shape"
   ]
  },
  {
   "cell_type": "code",
   "execution_count": 10,
   "id": "6ba2c940",
   "metadata": {},
   "outputs": [
    {
     "data": {
      "text/plain": [
       "(8091,)"
      ]
     },
     "execution_count": 10,
     "metadata": {},
     "output_type": "execute_result"
    }
   ],
   "source": [
    "y_test.shape"
   ]
  },
  {
   "cell_type": "code",
   "execution_count": 11,
   "id": "216f26e3",
   "metadata": {},
   "outputs": [],
   "source": [
    "lr = LinearRegression()"
   ]
  },
  {
   "cell_type": "code",
   "execution_count": 12,
   "id": "640dd5f9",
   "metadata": {},
   "outputs": [
    {
     "data": {
      "text/plain": [
       "LinearRegression()"
      ]
     },
     "execution_count": 12,
     "metadata": {},
     "output_type": "execute_result"
    }
   ],
   "source": [
    "lr.fit(X_train, y_train)"
   ]
  },
  {
   "cell_type": "code",
   "execution_count": 13,
   "id": "901ec811",
   "metadata": {},
   "outputs": [],
   "source": [
    "y_pred = lr.predict(X_test).round(1)\n"
   ]
  },
  {
   "cell_type": "code",
   "execution_count": 14,
   "id": "e1c3ec5a",
   "metadata": {},
   "outputs": [
    {
     "data": {
      "text/plain": [
       "8091"
      ]
     },
     "execution_count": 14,
     "metadata": {},
     "output_type": "execute_result"
    }
   ],
   "source": [
    "len(y_pred)"
   ]
  },
  {
   "cell_type": "code",
   "execution_count": 15,
   "id": "cd05a79a",
   "metadata": {},
   "outputs": [
    {
     "data": {
      "text/plain": [
       "8091"
      ]
     },
     "execution_count": 15,
     "metadata": {},
     "output_type": "execute_result"
    }
   ],
   "source": [
    "len(y_test)"
   ]
  },
  {
   "cell_type": "code",
   "execution_count": 16,
   "id": "976f9105",
   "metadata": {},
   "outputs": [
    {
     "data": {
      "text/plain": [
       "array([9.4, 8.8, 6.3, 7.8, 7.1, 7.5, 6.8, 6.1, 7.6, 6.1])"
      ]
     },
     "execution_count": 16,
     "metadata": {},
     "output_type": "execute_result"
    }
   ],
   "source": [
    "y_pred[:10]"
   ]
  },
  {
   "cell_type": "code",
   "execution_count": 17,
   "id": "517a640e",
   "metadata": {},
   "outputs": [
    {
     "data": {
      "text/plain": [
       "11567    9.473\n",
       "31139    8.805\n",
       "21007    6.358\n",
       "25120    7.904\n",
       "10065    7.197\n",
       "6433     7.553\n",
       "31770    6.759\n",
       "3361     6.043\n",
       "38916    7.677\n",
       "25057    6.292\n",
       "Name: price, dtype: float64"
      ]
     },
     "execution_count": 17,
     "metadata": {},
     "output_type": "execute_result"
    }
   ],
   "source": [
    "y_test[:10]"
   ]
  },
  {
   "cell_type": "code",
   "execution_count": 18,
   "id": "5479af4b",
   "metadata": {},
   "outputs": [
    {
     "data": {
      "text/plain": [
       "0.1598780027882294"
      ]
     },
     "execution_count": 18,
     "metadata": {},
     "output_type": "execute_result"
    }
   ],
   "source": [
    "rmse = sqrt(mean_squared_error(y_test, y_pred))\n",
    "rmse"
   ]
  },
  {
   "cell_type": "code",
   "execution_count": 21,
   "id": "efd81438",
   "metadata": {},
   "outputs": [],
   "source": [
    "y_pred_test = lr.predict(df2).round(1)"
   ]
  },
  {
   "cell_type": "code",
   "execution_count": 22,
   "id": "2b72bedc",
   "metadata": {},
   "outputs": [],
   "source": [
    "df2[\"price\"] = y_pred_test"
   ]
  },
  {
   "cell_type": "code",
   "execution_count": 24,
   "id": "6f4fd67a",
   "metadata": {},
   "outputs": [],
   "source": [
    "df_upload = df2.drop([\"carat\",\"cut\",\"color\",\"clarity\",\"depth\",\"table\",\"x\",\"y\",\"z\",], axis = 1)"
   ]
  },
  {
   "cell_type": "code",
   "execution_count": 25,
   "id": "073174b1",
   "metadata": {},
   "outputs": [
    {
     "data": {
      "text/html": [
       "<div>\n",
       "<style scoped>\n",
       "    .dataframe tbody tr th:only-of-type {\n",
       "        vertical-align: middle;\n",
       "    }\n",
       "\n",
       "    .dataframe tbody tr th {\n",
       "        vertical-align: top;\n",
       "    }\n",
       "\n",
       "    .dataframe thead th {\n",
       "        text-align: right;\n",
       "    }\n",
       "</style>\n",
       "<table border=\"1\" class=\"dataframe\">\n",
       "  <thead>\n",
       "    <tr style=\"text-align: right;\">\n",
       "      <th></th>\n",
       "      <th>id</th>\n",
       "      <th>price</th>\n",
       "    </tr>\n",
       "  </thead>\n",
       "  <tbody>\n",
       "    <tr>\n",
       "      <th>0</th>\n",
       "      <td>0</td>\n",
       "      <td>6.2</td>\n",
       "    </tr>\n",
       "    <tr>\n",
       "      <th>1</th>\n",
       "      <td>1</td>\n",
       "      <td>8.6</td>\n",
       "    </tr>\n",
       "    <tr>\n",
       "      <th>2</th>\n",
       "      <td>2</td>\n",
       "      <td>9.6</td>\n",
       "    </tr>\n",
       "    <tr>\n",
       "      <th>3</th>\n",
       "      <td>3</td>\n",
       "      <td>8.0</td>\n",
       "    </tr>\n",
       "    <tr>\n",
       "      <th>4</th>\n",
       "      <td>4</td>\n",
       "      <td>9.2</td>\n",
       "    </tr>\n",
       "  </tbody>\n",
       "</table>\n",
       "</div>"
      ],
      "text/plain": [
       "   id  price\n",
       "0   0    6.2\n",
       "1   1    8.6\n",
       "2   2    9.6\n",
       "3   3    8.0\n",
       "4   4    9.2"
      ]
     },
     "execution_count": 25,
     "metadata": {},
     "output_type": "execute_result"
    }
   ],
   "source": [
    "df_upload.head()"
   ]
  },
  {
   "cell_type": "code",
   "execution_count": null,
   "id": "ca4e68c1",
   "metadata": {},
   "outputs": [],
   "source": [
    "df_upload.to_csv(\"first_try.csv\",index=False)"
   ]
  },
  {
   "cell_type": "markdown",
   "id": "c982090b",
   "metadata": {},
   "source": [
    "### Decision tree"
   ]
  },
  {
   "cell_type": "code",
   "execution_count": null,
   "id": "533d293a",
   "metadata": {},
   "outputs": [],
   "source": [
    "dt = DecisionTreeRegressor(max_depth=5, random_state=111)"
   ]
  },
  {
   "cell_type": "code",
   "execution_count": null,
   "id": "948ce005",
   "metadata": {},
   "outputs": [],
   "source": [
    "dt.fit(X_train, y_train)"
   ]
  },
  {
   "cell_type": "code",
   "execution_count": null,
   "id": "b64b2500",
   "metadata": {},
   "outputs": [],
   "source": [
    "dt.predict(X_train).round(2)[:10]"
   ]
  },
  {
   "cell_type": "code",
   "execution_count": null,
   "id": "bccab4d2",
   "metadata": {},
   "outputs": [],
   "source": [
    "y_test[0:10]"
   ]
  },
  {
   "cell_type": "code",
   "execution_count": null,
   "id": "a7e1e9cf",
   "metadata": {},
   "outputs": [],
   "source": [
    "mean_squared_error(\n",
    "    y_true=y_test,\n",
    "    y_pred=dt.predict(X_test)\n",
    ").round(3)"
   ]
  },
  {
   "cell_type": "code",
   "execution_count": null,
   "id": "54585ea3",
   "metadata": {},
   "outputs": [],
   "source": [
    "rmse2 = sqrt(mean_squared_error(\n",
    "    y_true=y_test,\n",
    "    y_pred=dt.predict(X_test))\n",
    ")"
   ]
  },
  {
   "cell_type": "code",
   "execution_count": null,
   "id": "38725b98",
   "metadata": {},
   "outputs": [],
   "source": [
    "rmse2"
   ]
  },
  {
   "cell_type": "code",
   "execution_count": null,
   "id": "7cdab3f0",
   "metadata": {},
   "outputs": [],
   "source": [
    "y_pred_test2 = dt.predict(df3).round(1)"
   ]
  },
  {
   "cell_type": "code",
   "execution_count": null,
   "id": "6830e3d8",
   "metadata": {},
   "outputs": [],
   "source": [
    "df3[\"price\"] = y_pred_test2"
   ]
  },
  {
   "cell_type": "code",
   "execution_count": null,
   "id": "f62de1f8",
   "metadata": {},
   "outputs": [],
   "source": [
    "df3.head()"
   ]
  },
  {
   "cell_type": "code",
   "execution_count": null,
   "id": "2d2b85ca",
   "metadata": {},
   "outputs": [],
   "source": [
    "df_upload2 = df3.drop([\"carat\",\"cut\",\"color\",\"clarity\",\"depth\",\"table\",\"x\",\"y\",\"z\",], axis = 1)"
   ]
  },
  {
   "cell_type": "code",
   "execution_count": null,
   "id": "57337a2e",
   "metadata": {},
   "outputs": [],
   "source": [
    "df_upload2.head()"
   ]
  },
  {
   "cell_type": "code",
   "execution_count": null,
   "id": "b2a27004",
   "metadata": {},
   "outputs": [],
   "source": [
    "df_upload2.to_csv(\"second_try.csv\",index=False)"
   ]
  },
  {
   "cell_type": "markdown",
   "id": "73d3e700",
   "metadata": {},
   "source": [
    "### Random Forrest"
   ]
  },
  {
   "cell_type": "code",
   "execution_count": null,
   "id": "f36b724a",
   "metadata": {},
   "outputs": [],
   "source": [
    "rf = RandomForestRegressor(n_estimators=100, max_features=9, max_depth=10, min_samples_split=50)"
   ]
  },
  {
   "cell_type": "code",
   "execution_count": null,
   "id": "1b196412",
   "metadata": {},
   "outputs": [],
   "source": [
    "rf.fit(X_train, y_train)"
   ]
  },
  {
   "cell_type": "code",
   "execution_count": null,
   "id": "672af2d3",
   "metadata": {},
   "outputs": [],
   "source": [
    "rmse3 = sqrt(mean_squared_error(\n",
    "    y_true=y_test,\n",
    "    y_pred=rf.predict(X_test))\n",
    ")"
   ]
  },
  {
   "cell_type": "code",
   "execution_count": null,
   "id": "6abed268",
   "metadata": {},
   "outputs": [],
   "source": [
    "rmse3"
   ]
  },
  {
   "cell_type": "code",
   "execution_count": null,
   "id": "097a3eb2",
   "metadata": {},
   "outputs": [],
   "source": [
    "y_pred_test3 = rf.predict(df3).round(1)"
   ]
  },
  {
   "cell_type": "code",
   "execution_count": null,
   "id": "2bef0e4c",
   "metadata": {},
   "outputs": [],
   "source": [
    "df3[\"price\"] = y_pred_test3"
   ]
  },
  {
   "cell_type": "code",
   "execution_count": null,
   "id": "8c383b56",
   "metadata": {},
   "outputs": [],
   "source": [
    "df3.head()"
   ]
  },
  {
   "cell_type": "code",
   "execution_count": null,
   "id": "60461fd4",
   "metadata": {},
   "outputs": [],
   "source": [
    "df_upload3 = df3.drop([\"carat\",\"cut\",\"color\",\"clarity\",\"depth\",\"table\",\"x\",\"y\",\"z\",], axis = 1)"
   ]
  },
  {
   "cell_type": "code",
   "execution_count": null,
   "id": "30b97883",
   "metadata": {},
   "outputs": [],
   "source": [
    "df_upload3.head()"
   ]
  },
  {
   "cell_type": "code",
   "execution_count": null,
   "id": "5aeb6546",
   "metadata": {},
   "outputs": [],
   "source": [
    "df_upload3.to_csv(\"third_try.csv\",index=False)"
   ]
  },
  {
   "cell_type": "markdown",
   "id": "2e98c153",
   "metadata": {},
   "source": [
    "### Random Forrest"
   ]
  },
  {
   "cell_type": "code",
   "execution_count": 49,
   "id": "cb5a3760",
   "metadata": {},
   "outputs": [],
   "source": [
    "rf2 = RandomForestRegressor(n_estimators=200, max_features=9, max_depth=12, min_samples_split=50)"
   ]
  },
  {
   "cell_type": "code",
   "execution_count": 50,
   "id": "d628300b",
   "metadata": {},
   "outputs": [
    {
     "data": {
      "text/plain": [
       "RandomForestRegressor(max_depth=12, max_features=9, min_samples_split=50,\n",
       "                      n_estimators=200)"
      ]
     },
     "execution_count": 50,
     "metadata": {},
     "output_type": "execute_result"
    }
   ],
   "source": [
    "rf2.fit(X_train, y_train)"
   ]
  },
  {
   "cell_type": "markdown",
   "id": "3c1fe422",
   "metadata": {},
   "source": [
    "### Trying cross validation"
   ]
  },
  {
   "cell_type": "code",
   "execution_count": 60,
   "id": "c422c566",
   "metadata": {},
   "outputs": [],
   "source": [
    "scores = cross_val_score(rf2, X, y, scoring='neg_root_mean_squared_error', cv=5)"
   ]
  },
  {
   "cell_type": "code",
   "execution_count": 61,
   "id": "61625f95",
   "metadata": {},
   "outputs": [
    {
     "data": {
      "text/plain": [
       "array([-0.10635327, -0.10539858, -0.10164894, -0.10117233, -0.10075843])"
      ]
     },
     "execution_count": 61,
     "metadata": {},
     "output_type": "execute_result"
    }
   ],
   "source": [
    "scores"
   ]
  },
  {
   "cell_type": "code",
   "execution_count": 62,
   "id": "16c0bccc",
   "metadata": {},
   "outputs": [
    {
     "data": {
      "text/plain": [
       "-0.1030663078669453"
      ]
     },
     "execution_count": 62,
     "metadata": {},
     "output_type": "execute_result"
    }
   ],
   "source": [
    "scores.mean()"
   ]
  },
  {
   "cell_type": "code",
   "execution_count": 51,
   "id": "4b89b8c8",
   "metadata": {},
   "outputs": [],
   "source": [
    "rmse4 = sqrt(mean_squared_error(\n",
    "    y_true=y_test,\n",
    "    y_pred=rf2.predict(X_test))\n",
    ")"
   ]
  },
  {
   "cell_type": "code",
   "execution_count": 52,
   "id": "78dd7b4e",
   "metadata": {},
   "outputs": [
    {
     "data": {
      "text/plain": [
       "0.10204868566219691"
      ]
     },
     "execution_count": 52,
     "metadata": {},
     "output_type": "execute_result"
    }
   ],
   "source": [
    "rmse4"
   ]
  },
  {
   "cell_type": "code",
   "execution_count": 53,
   "id": "29c32c8d",
   "metadata": {},
   "outputs": [],
   "source": [
    "y_pred_test5 = rf2.predict(df3).round(1)"
   ]
  },
  {
   "cell_type": "code",
   "execution_count": 54,
   "id": "62eb6e7c",
   "metadata": {},
   "outputs": [],
   "source": [
    "df3[\"price\"] = y_pred_test5"
   ]
  },
  {
   "cell_type": "code",
   "execution_count": 63,
   "id": "d5f59c2d",
   "metadata": {},
   "outputs": [
    {
     "data": {
      "text/html": [
       "<div>\n",
       "<style scoped>\n",
       "    .dataframe tbody tr th:only-of-type {\n",
       "        vertical-align: middle;\n",
       "    }\n",
       "\n",
       "    .dataframe tbody tr th {\n",
       "        vertical-align: top;\n",
       "    }\n",
       "\n",
       "    .dataframe thead th {\n",
       "        text-align: right;\n",
       "    }\n",
       "</style>\n",
       "<table border=\"1\" class=\"dataframe\">\n",
       "  <thead>\n",
       "    <tr style=\"text-align: right;\">\n",
       "      <th></th>\n",
       "      <th>id</th>\n",
       "      <th>carat</th>\n",
       "      <th>cut</th>\n",
       "      <th>color</th>\n",
       "      <th>clarity</th>\n",
       "      <th>depth</th>\n",
       "      <th>table</th>\n",
       "      <th>x</th>\n",
       "      <th>y</th>\n",
       "      <th>z</th>\n",
       "      <th>price</th>\n",
       "    </tr>\n",
       "  </thead>\n",
       "  <tbody>\n",
       "    <tr>\n",
       "      <th>0</th>\n",
       "      <td>0</td>\n",
       "      <td>0.32</td>\n",
       "      <td>5</td>\n",
       "      <td>2</td>\n",
       "      <td>3</td>\n",
       "      <td>60.5</td>\n",
       "      <td>58.0</td>\n",
       "      <td>4.43</td>\n",
       "      <td>4.49</td>\n",
       "      <td>2.70</td>\n",
       "      <td>6.2</td>\n",
       "    </tr>\n",
       "    <tr>\n",
       "      <th>1</th>\n",
       "      <td>1</td>\n",
       "      <td>1.24</td>\n",
       "      <td>4</td>\n",
       "      <td>2</td>\n",
       "      <td>3</td>\n",
       "      <td>62.9</td>\n",
       "      <td>60.0</td>\n",
       "      <td>6.80</td>\n",
       "      <td>6.74</td>\n",
       "      <td>4.26</td>\n",
       "      <td>8.5</td>\n",
       "    </tr>\n",
       "    <tr>\n",
       "      <th>2</th>\n",
       "      <td>2</td>\n",
       "      <td>1.66</td>\n",
       "      <td>4</td>\n",
       "      <td>7</td>\n",
       "      <td>3</td>\n",
       "      <td>62.0</td>\n",
       "      <td>59.0</td>\n",
       "      <td>7.55</td>\n",
       "      <td>7.60</td>\n",
       "      <td>4.70</td>\n",
       "      <td>9.5</td>\n",
       "    </tr>\n",
       "    <tr>\n",
       "      <th>3</th>\n",
       "      <td>3</td>\n",
       "      <td>0.75</td>\n",
       "      <td>4</td>\n",
       "      <td>7</td>\n",
       "      <td>2</td>\n",
       "      <td>60.6</td>\n",
       "      <td>56.0</td>\n",
       "      <td>5.94</td>\n",
       "      <td>5.90</td>\n",
       "      <td>3.59</td>\n",
       "      <td>7.8</td>\n",
       "    </tr>\n",
       "    <tr>\n",
       "      <th>4</th>\n",
       "      <td>4</td>\n",
       "      <td>1.50</td>\n",
       "      <td>1</td>\n",
       "      <td>6</td>\n",
       "      <td>2</td>\n",
       "      <td>64.8</td>\n",
       "      <td>55.0</td>\n",
       "      <td>7.26</td>\n",
       "      <td>7.15</td>\n",
       "      <td>4.67</td>\n",
       "      <td>8.9</td>\n",
       "    </tr>\n",
       "  </tbody>\n",
       "</table>\n",
       "</div>"
      ],
      "text/plain": [
       "   id  carat  cut  color  clarity  depth  table     x     y     z  price\n",
       "0   0   0.32    5      2        3   60.5   58.0  4.43  4.49  2.70    6.2\n",
       "1   1   1.24    4      2        3   62.9   60.0  6.80  6.74  4.26    8.5\n",
       "2   2   1.66    4      7        3   62.0   59.0  7.55  7.60  4.70    9.5\n",
       "3   3   0.75    4      7        2   60.6   56.0  5.94  5.90  3.59    7.8\n",
       "4   4   1.50    1      6        2   64.8   55.0  7.26  7.15  4.67    8.9"
      ]
     },
     "execution_count": 63,
     "metadata": {},
     "output_type": "execute_result"
    }
   ],
   "source": [
    "df3.head()"
   ]
  },
  {
   "cell_type": "code",
   "execution_count": null,
   "id": "95cdb75a",
   "metadata": {},
   "outputs": [],
   "source": [
    "df_upload5 = df3.drop([\"carat\",\"cut\",\"color\",\"clarity\",\"depth\",\"table\",\"x\",\"y\",\"z\",], axis = 1)"
   ]
  },
  {
   "cell_type": "code",
   "execution_count": null,
   "id": "746f02b1",
   "metadata": {},
   "outputs": [],
   "source": [
    "df_upload5"
   ]
  },
  {
   "cell_type": "code",
   "execution_count": null,
   "id": "3bbbae4a",
   "metadata": {},
   "outputs": [],
   "source": [
    "df_upload5.to_csv(\"fifth_try.csv\",index=False)"
   ]
  },
  {
   "cell_type": "markdown",
   "id": "aef33b69",
   "metadata": {},
   "source": [
    "### XGboost"
   ]
  },
  {
   "cell_type": "code",
   "execution_count": 26,
   "id": "5ca9f2c1",
   "metadata": {},
   "outputs": [],
   "source": [
    "xg = XGBRegressor()"
   ]
  },
  {
   "cell_type": "code",
   "execution_count": 27,
   "id": "bc263a0f",
   "metadata": {},
   "outputs": [
    {
     "data": {
      "text/plain": [
       "XGBRegressor(base_score=0.5, booster='gbtree', colsample_bylevel=1,\n",
       "             colsample_bynode=1, colsample_bytree=1, gamma=0, gpu_id=-1,\n",
       "             importance_type='gain', interaction_constraints='',\n",
       "             learning_rate=0.300000012, max_delta_step=0, max_depth=6,\n",
       "             min_child_weight=1, missing=nan, monotone_constraints='()',\n",
       "             n_estimators=100, n_jobs=8, num_parallel_tree=1, random_state=0,\n",
       "             reg_alpha=0, reg_lambda=1, scale_pos_weight=1, subsample=1,\n",
       "             tree_method='exact', validate_parameters=1, verbosity=None)"
      ]
     },
     "execution_count": 27,
     "metadata": {},
     "output_type": "execute_result"
    }
   ],
   "source": [
    "xg.fit(X_train, y_train)"
   ]
  },
  {
   "cell_type": "code",
   "execution_count": 92,
   "id": "c9a3fe3b",
   "metadata": {},
   "outputs": [],
   "source": [
    "xg_pred = xg.predict(X_test).round(1)"
   ]
  },
  {
   "cell_type": "code",
   "execution_count": 93,
   "id": "51a812f3",
   "metadata": {},
   "outputs": [],
   "source": [
    "rmse5 = sqrt(mean_squared_error(\n",
    "    y_true=y_test,\n",
    "    y_pred=xg_pred\n",
    "))"
   ]
  },
  {
   "cell_type": "code",
   "execution_count": 94,
   "id": "33ceb656",
   "metadata": {},
   "outputs": [
    {
     "data": {
      "text/plain": [
       "0.09563909597439087"
      ]
     },
     "execution_count": 94,
     "metadata": {},
     "output_type": "execute_result"
    }
   ],
   "source": [
    "rmse5\n"
   ]
  },
  {
   "cell_type": "code",
   "execution_count": 95,
   "id": "2ec38c05",
   "metadata": {},
   "outputs": [
    {
     "ename": "ValueError",
     "evalue": "Feature shape mismatch, expected: 10, got 13485",
     "output_type": "error",
     "traceback": [
      "\u001b[0;31m---------------------------------------------------------------------------\u001b[0m",
      "\u001b[0;31mValueError\u001b[0m                                Traceback (most recent call last)",
      "\u001b[0;32m/tmp/ipykernel_1143/2271058136.py\u001b[0m in \u001b[0;36m<module>\u001b[0;34m\u001b[0m\n\u001b[0;32m----> 1\u001b[0;31m \u001b[0mxg_pred_0\u001b[0m \u001b[0;34m=\u001b[0m \u001b[0mxg\u001b[0m\u001b[0;34m.\u001b[0m\u001b[0mpredict\u001b[0m\u001b[0;34m(\u001b[0m\u001b[0mdf3\u001b[0m\u001b[0;34m)\u001b[0m\u001b[0;34m.\u001b[0m\u001b[0mround\u001b[0m\u001b[0;34m(\u001b[0m\u001b[0;36m1\u001b[0m\u001b[0;34m)\u001b[0m\u001b[0;34m\u001b[0m\u001b[0;34m\u001b[0m\u001b[0m\n\u001b[0m",
      "\u001b[0;32m~/.local/lib/python3.8/site-packages/xgboost/sklearn.py\u001b[0m in \u001b[0;36mpredict\u001b[0;34m(self, X, output_margin, ntree_limit, validate_features, base_margin, iteration_range)\u001b[0m\n\u001b[1;32m    818\u001b[0m         \u001b[0;32mif\u001b[0m \u001b[0mself\u001b[0m\u001b[0;34m.\u001b[0m\u001b[0m_can_use_inplace_predict\u001b[0m\u001b[0;34m(\u001b[0m\u001b[0;34m)\u001b[0m\u001b[0;34m:\u001b[0m\u001b[0;34m\u001b[0m\u001b[0;34m\u001b[0m\u001b[0m\n\u001b[1;32m    819\u001b[0m             \u001b[0;32mtry\u001b[0m\u001b[0;34m:\u001b[0m\u001b[0;34m\u001b[0m\u001b[0;34m\u001b[0m\u001b[0m\n\u001b[0;32m--> 820\u001b[0;31m                 predts = self.get_booster().inplace_predict(\n\u001b[0m\u001b[1;32m    821\u001b[0m                     \u001b[0mdata\u001b[0m\u001b[0;34m=\u001b[0m\u001b[0mX\u001b[0m\u001b[0;34m,\u001b[0m\u001b[0;34m\u001b[0m\u001b[0;34m\u001b[0m\u001b[0m\n\u001b[1;32m    822\u001b[0m                     \u001b[0miteration_range\u001b[0m\u001b[0;34m=\u001b[0m\u001b[0miteration_range\u001b[0m\u001b[0;34m,\u001b[0m\u001b[0;34m\u001b[0m\u001b[0;34m\u001b[0m\u001b[0m\n",
      "\u001b[0;32m~/.local/lib/python3.8/site-packages/xgboost/core.py\u001b[0m in \u001b[0;36minplace_predict\u001b[0;34m(self, data, iteration_range, predict_type, missing, validate_features, base_margin, strict_shape)\u001b[0m\n\u001b[1;32m   1839\u001b[0m         \u001b[0;32mif\u001b[0m \u001b[0mvalidate_features\u001b[0m\u001b[0;34m:\u001b[0m\u001b[0;34m\u001b[0m\u001b[0;34m\u001b[0m\u001b[0m\n\u001b[1;32m   1840\u001b[0m             \u001b[0;32mif\u001b[0m \u001b[0mlen\u001b[0m\u001b[0;34m(\u001b[0m\u001b[0mdata\u001b[0m\u001b[0;34m.\u001b[0m\u001b[0mshape\u001b[0m\u001b[0;34m)\u001b[0m \u001b[0;34m!=\u001b[0m \u001b[0;36m1\u001b[0m \u001b[0;32mand\u001b[0m \u001b[0mself\u001b[0m\u001b[0;34m.\u001b[0m\u001b[0mnum_features\u001b[0m\u001b[0;34m(\u001b[0m\u001b[0;34m)\u001b[0m \u001b[0;34m!=\u001b[0m \u001b[0mdata\u001b[0m\u001b[0;34m.\u001b[0m\u001b[0mshape\u001b[0m\u001b[0;34m[\u001b[0m\u001b[0;36m1\u001b[0m\u001b[0;34m]\u001b[0m\u001b[0;34m:\u001b[0m\u001b[0;34m\u001b[0m\u001b[0;34m\u001b[0m\u001b[0m\n\u001b[0;32m-> 1841\u001b[0;31m                 raise ValueError(\n\u001b[0m\u001b[1;32m   1842\u001b[0m                     \u001b[0;34mf\"Feature shape mismatch, expected: {self.num_features()}, \"\u001b[0m\u001b[0;34m\u001b[0m\u001b[0;34m\u001b[0m\u001b[0m\n\u001b[1;32m   1843\u001b[0m                     \u001b[0;34mf\"got {data.shape[0]}\"\u001b[0m\u001b[0;34m\u001b[0m\u001b[0;34m\u001b[0m\u001b[0m\n",
      "\u001b[0;31mValueError\u001b[0m: Feature shape mismatch, expected: 10, got 13485"
     ]
    }
   ],
   "source": [
    "xg_pred_0 = xg.predict(df3).round(1)"
   ]
  },
  {
   "cell_type": "code",
   "execution_count": null,
   "id": "c80f1ca7",
   "metadata": {},
   "outputs": [],
   "source": [
    "df_upload4 = df3.drop([\"carat\",\"cut\",\"color\",\"clarity\",\"depth\",\"table\",\"x\",\"y\",\"z\",], axis = 1)"
   ]
  },
  {
   "cell_type": "code",
   "execution_count": null,
   "id": "853a1419",
   "metadata": {},
   "outputs": [],
   "source": [
    "df_upload4"
   ]
  },
  {
   "cell_type": "code",
   "execution_count": null,
   "id": "a7da88bb",
   "metadata": {},
   "outputs": [],
   "source": [
    "df_upload4.to_csv(\"fourth_try.csv\",index=False)"
   ]
  },
  {
   "cell_type": "markdown",
   "id": "379ea0ee",
   "metadata": {},
   "source": [
    "### Catboost"
   ]
  },
  {
   "cell_type": "code",
   "execution_count": 150,
   "id": "f0e9f777",
   "metadata": {},
   "outputs": [],
   "source": [
    "cb = CatBoostRegressor(iterations=110,\n",
    "                          learning_rate=1,\n",
    "                          depth=7)"
   ]
  },
  {
   "cell_type": "code",
   "execution_count": 162,
   "id": "04ebf957",
   "metadata": {},
   "outputs": [],
   "source": [
    "#cb.fit(X_train, y_train)"
   ]
  },
  {
   "cell_type": "code",
   "execution_count": 153,
   "id": "0dad1ee1",
   "metadata": {},
   "outputs": [],
   "source": [
    "pred_cb = cb.predict(X_test).round(1)"
   ]
  },
  {
   "cell_type": "code",
   "execution_count": 154,
   "id": "90c519c2",
   "metadata": {},
   "outputs": [
    {
     "data": {
      "text/plain": [
       "0.09657658531469644"
      ]
     },
     "execution_count": 154,
     "metadata": {},
     "output_type": "execute_result"
    }
   ],
   "source": [
    "rmse6 = sqrt(mean_squared_error(y_test, pred_cb))\n",
    "rmse6"
   ]
  },
  {
   "cell_type": "code",
   "execution_count": null,
   "id": "7cec87cf",
   "metadata": {},
   "outputs": [],
   "source": [
    "pred_cb[15:30]"
   ]
  },
  {
   "cell_type": "code",
   "execution_count": null,
   "id": "3b69e2d4",
   "metadata": {},
   "outputs": [],
   "source": [
    "y_test[15:30]"
   ]
  },
  {
   "cell_type": "code",
   "execution_count": 155,
   "id": "ccbc94be",
   "metadata": {},
   "outputs": [],
   "source": [
    "y_pred_test10 = cb.predict(df3).round(1)"
   ]
  },
  {
   "cell_type": "code",
   "execution_count": 156,
   "id": "cd7a36ce",
   "metadata": {},
   "outputs": [],
   "source": [
    "df3[\"price\"] = y_pred_test10"
   ]
  },
  {
   "cell_type": "code",
   "execution_count": 157,
   "id": "510a6fa8",
   "metadata": {},
   "outputs": [
    {
     "data": {
      "text/plain": [
       "array([6.1, 8.5, 9.4, 7.8, 9. , 8.1, 7.1, 6.9, 6.4, 6.8])"
      ]
     },
     "execution_count": 157,
     "metadata": {},
     "output_type": "execute_result"
    }
   ],
   "source": [
    "y_pred_test10[0:10]"
   ]
  },
  {
   "cell_type": "code",
   "execution_count": 158,
   "id": "f05f97fa",
   "metadata": {},
   "outputs": [],
   "source": [
    "df_upload10 = df3.drop([\"carat\",\"cut\",\"color\",\"clarity\",\"depth\",\"table\",\"x\",\"y\",\"z\",], axis = 1)"
   ]
  },
  {
   "cell_type": "code",
   "execution_count": 160,
   "id": "5459719d",
   "metadata": {},
   "outputs": [
    {
     "data": {
      "text/html": [
       "<div>\n",
       "<style scoped>\n",
       "    .dataframe tbody tr th:only-of-type {\n",
       "        vertical-align: middle;\n",
       "    }\n",
       "\n",
       "    .dataframe tbody tr th {\n",
       "        vertical-align: top;\n",
       "    }\n",
       "\n",
       "    .dataframe thead th {\n",
       "        text-align: right;\n",
       "    }\n",
       "</style>\n",
       "<table border=\"1\" class=\"dataframe\">\n",
       "  <thead>\n",
       "    <tr style=\"text-align: right;\">\n",
       "      <th></th>\n",
       "      <th>id</th>\n",
       "      <th>price</th>\n",
       "    </tr>\n",
       "  </thead>\n",
       "  <tbody>\n",
       "    <tr>\n",
       "      <th>0</th>\n",
       "      <td>0</td>\n",
       "      <td>6.1</td>\n",
       "    </tr>\n",
       "    <tr>\n",
       "      <th>1</th>\n",
       "      <td>1</td>\n",
       "      <td>8.5</td>\n",
       "    </tr>\n",
       "    <tr>\n",
       "      <th>2</th>\n",
       "      <td>2</td>\n",
       "      <td>9.4</td>\n",
       "    </tr>\n",
       "    <tr>\n",
       "      <th>3</th>\n",
       "      <td>3</td>\n",
       "      <td>7.8</td>\n",
       "    </tr>\n",
       "    <tr>\n",
       "      <th>4</th>\n",
       "      <td>4</td>\n",
       "      <td>9.0</td>\n",
       "    </tr>\n",
       "  </tbody>\n",
       "</table>\n",
       "</div>"
      ],
      "text/plain": [
       "   id  price\n",
       "0   0    6.1\n",
       "1   1    8.5\n",
       "2   2    9.4\n",
       "3   3    7.8\n",
       "4   4    9.0"
      ]
     },
     "execution_count": 160,
     "metadata": {},
     "output_type": "execute_result"
    }
   ],
   "source": [
    "df_upload10.head()"
   ]
  },
  {
   "cell_type": "code",
   "execution_count": 161,
   "id": "8f39c886",
   "metadata": {},
   "outputs": [],
   "source": [
    "df_upload10.to_csv(\"catboost2.csv\",index=False)"
   ]
  },
  {
   "cell_type": "markdown",
   "id": "e318216e",
   "metadata": {},
   "source": [
    "###  Trying cross validation"
   ]
  },
  {
   "cell_type": "code",
   "execution_count": 106,
   "id": "2d3b1b63",
   "metadata": {},
   "outputs": [],
   "source": [
    "#scores2 = cross_val_score(cb, X, y, scoring='neg_mean_absolute_error', cv=5)"
   ]
  },
  {
   "cell_type": "code",
   "execution_count": 100,
   "id": "818179e3",
   "metadata": {},
   "outputs": [
    {
     "data": {
      "text/plain": [
       "-0.0702187421867361"
      ]
     },
     "execution_count": 100,
     "metadata": {},
     "output_type": "execute_result"
    }
   ],
   "source": [
    "scores2.mean()"
   ]
  },
  {
   "cell_type": "code",
   "execution_count": 101,
   "id": "0179b613",
   "metadata": {},
   "outputs": [],
   "source": [
    "y_pred_test15 = cb.predict(df3).round(1)"
   ]
  },
  {
   "cell_type": "code",
   "execution_count": 102,
   "id": "b05ca2e8",
   "metadata": {},
   "outputs": [],
   "source": [
    "df3[\"price\"] = y_pred_test15"
   ]
  },
  {
   "cell_type": "code",
   "execution_count": 107,
   "id": "86e2ca9f",
   "metadata": {},
   "outputs": [
    {
     "data": {
      "text/html": [
       "<div>\n",
       "<style scoped>\n",
       "    .dataframe tbody tr th:only-of-type {\n",
       "        vertical-align: middle;\n",
       "    }\n",
       "\n",
       "    .dataframe tbody tr th {\n",
       "        vertical-align: top;\n",
       "    }\n",
       "\n",
       "    .dataframe thead th {\n",
       "        text-align: right;\n",
       "    }\n",
       "</style>\n",
       "<table border=\"1\" class=\"dataframe\">\n",
       "  <thead>\n",
       "    <tr style=\"text-align: right;\">\n",
       "      <th></th>\n",
       "      <th>id</th>\n",
       "      <th>carat</th>\n",
       "      <th>cut</th>\n",
       "      <th>color</th>\n",
       "      <th>clarity</th>\n",
       "      <th>depth</th>\n",
       "      <th>table</th>\n",
       "      <th>x</th>\n",
       "      <th>y</th>\n",
       "      <th>z</th>\n",
       "      <th>price</th>\n",
       "    </tr>\n",
       "  </thead>\n",
       "  <tbody>\n",
       "    <tr>\n",
       "      <th>30</th>\n",
       "      <td>30</td>\n",
       "      <td>0.34</td>\n",
       "      <td>5</td>\n",
       "      <td>3</td>\n",
       "      <td>8</td>\n",
       "      <td>60.8</td>\n",
       "      <td>56.0</td>\n",
       "      <td>4.56</td>\n",
       "      <td>4.55</td>\n",
       "      <td>2.77</td>\n",
       "      <td>6.9</td>\n",
       "    </tr>\n",
       "    <tr>\n",
       "      <th>31</th>\n",
       "      <td>31</td>\n",
       "      <td>1.11</td>\n",
       "      <td>5</td>\n",
       "      <td>3</td>\n",
       "      <td>2</td>\n",
       "      <td>61.3</td>\n",
       "      <td>60.0</td>\n",
       "      <td>6.68</td>\n",
       "      <td>6.66</td>\n",
       "      <td>4.09</td>\n",
       "      <td>8.4</td>\n",
       "    </tr>\n",
       "    <tr>\n",
       "      <th>32</th>\n",
       "      <td>32</td>\n",
       "      <td>1.04</td>\n",
       "      <td>4</td>\n",
       "      <td>2</td>\n",
       "      <td>3</td>\n",
       "      <td>61.8</td>\n",
       "      <td>60.0</td>\n",
       "      <td>6.51</td>\n",
       "      <td>6.47</td>\n",
       "      <td>4.01</td>\n",
       "      <td>8.3</td>\n",
       "    </tr>\n",
       "    <tr>\n",
       "      <th>33</th>\n",
       "      <td>33</td>\n",
       "      <td>0.30</td>\n",
       "      <td>4</td>\n",
       "      <td>3</td>\n",
       "      <td>3</td>\n",
       "      <td>61.3</td>\n",
       "      <td>61.0</td>\n",
       "      <td>4.27</td>\n",
       "      <td>4.25</td>\n",
       "      <td>2.61</td>\n",
       "      <td>6.3</td>\n",
       "    </tr>\n",
       "    <tr>\n",
       "      <th>34</th>\n",
       "      <td>34</td>\n",
       "      <td>2.08</td>\n",
       "      <td>3</td>\n",
       "      <td>7</td>\n",
       "      <td>2</td>\n",
       "      <td>60.1</td>\n",
       "      <td>59.0</td>\n",
       "      <td>8.29</td>\n",
       "      <td>8.37</td>\n",
       "      <td>5.01</td>\n",
       "      <td>9.8</td>\n",
       "    </tr>\n",
       "    <tr>\n",
       "      <th>35</th>\n",
       "      <td>35</td>\n",
       "      <td>1.00</td>\n",
       "      <td>3</td>\n",
       "      <td>3</td>\n",
       "      <td>4</td>\n",
       "      <td>64.7</td>\n",
       "      <td>56.0</td>\n",
       "      <td>6.23</td>\n",
       "      <td>6.29</td>\n",
       "      <td>4.05</td>\n",
       "      <td>8.6</td>\n",
       "    </tr>\n",
       "    <tr>\n",
       "      <th>36</th>\n",
       "      <td>36</td>\n",
       "      <td>1.58</td>\n",
       "      <td>3</td>\n",
       "      <td>4</td>\n",
       "      <td>2</td>\n",
       "      <td>60.0</td>\n",
       "      <td>53.0</td>\n",
       "      <td>7.59</td>\n",
       "      <td>7.64</td>\n",
       "      <td>4.57</td>\n",
       "      <td>9.2</td>\n",
       "    </tr>\n",
       "    <tr>\n",
       "      <th>37</th>\n",
       "      <td>37</td>\n",
       "      <td>0.70</td>\n",
       "      <td>3</td>\n",
       "      <td>6</td>\n",
       "      <td>2</td>\n",
       "      <td>63.2</td>\n",
       "      <td>61.0</td>\n",
       "      <td>5.62</td>\n",
       "      <td>5.59</td>\n",
       "      <td>3.54</td>\n",
       "      <td>7.7</td>\n",
       "    </tr>\n",
       "    <tr>\n",
       "      <th>38</th>\n",
       "      <td>38</td>\n",
       "      <td>1.66</td>\n",
       "      <td>5</td>\n",
       "      <td>3</td>\n",
       "      <td>8</td>\n",
       "      <td>61.5</td>\n",
       "      <td>57.0</td>\n",
       "      <td>7.59</td>\n",
       "      <td>7.62</td>\n",
       "      <td>4.68</td>\n",
       "      <td>9.6</td>\n",
       "    </tr>\n",
       "    <tr>\n",
       "      <th>39</th>\n",
       "      <td>39</td>\n",
       "      <td>2.03</td>\n",
       "      <td>4</td>\n",
       "      <td>4</td>\n",
       "      <td>3</td>\n",
       "      <td>61.3</td>\n",
       "      <td>59.0</td>\n",
       "      <td>8.11</td>\n",
       "      <td>8.08</td>\n",
       "      <td>4.96</td>\n",
       "      <td>9.7</td>\n",
       "    </tr>\n",
       "    <tr>\n",
       "      <th>40</th>\n",
       "      <td>40</td>\n",
       "      <td>1.51</td>\n",
       "      <td>3</td>\n",
       "      <td>6</td>\n",
       "      <td>2</td>\n",
       "      <td>58.8</td>\n",
       "      <td>58.0</td>\n",
       "      <td>7.53</td>\n",
       "      <td>7.61</td>\n",
       "      <td>4.45</td>\n",
       "      <td>9.1</td>\n",
       "    </tr>\n",
       "    <tr>\n",
       "      <th>41</th>\n",
       "      <td>41</td>\n",
       "      <td>0.90</td>\n",
       "      <td>5</td>\n",
       "      <td>4</td>\n",
       "      <td>4</td>\n",
       "      <td>62.0</td>\n",
       "      <td>57.0</td>\n",
       "      <td>6.22</td>\n",
       "      <td>6.19</td>\n",
       "      <td>3.85</td>\n",
       "      <td>8.5</td>\n",
       "    </tr>\n",
       "    <tr>\n",
       "      <th>42</th>\n",
       "      <td>42</td>\n",
       "      <td>0.54</td>\n",
       "      <td>4</td>\n",
       "      <td>3</td>\n",
       "      <td>3</td>\n",
       "      <td>61.0</td>\n",
       "      <td>58.0</td>\n",
       "      <td>5.27</td>\n",
       "      <td>5.23</td>\n",
       "      <td>3.20</td>\n",
       "      <td>7.2</td>\n",
       "    </tr>\n",
       "    <tr>\n",
       "      <th>43</th>\n",
       "      <td>43</td>\n",
       "      <td>0.91</td>\n",
       "      <td>4</td>\n",
       "      <td>5</td>\n",
       "      <td>4</td>\n",
       "      <td>62.2</td>\n",
       "      <td>58.0</td>\n",
       "      <td>6.21</td>\n",
       "      <td>6.17</td>\n",
       "      <td>3.85</td>\n",
       "      <td>8.4</td>\n",
       "    </tr>\n",
       "    <tr>\n",
       "      <th>44</th>\n",
       "      <td>44</td>\n",
       "      <td>0.50</td>\n",
       "      <td>4</td>\n",
       "      <td>4</td>\n",
       "      <td>5</td>\n",
       "      <td>60.3</td>\n",
       "      <td>60.0</td>\n",
       "      <td>5.10</td>\n",
       "      <td>5.08</td>\n",
       "      <td>3.07</td>\n",
       "      <td>7.5</td>\n",
       "    </tr>\n",
       "    <tr>\n",
       "      <th>45</th>\n",
       "      <td>45</td>\n",
       "      <td>0.30</td>\n",
       "      <td>5</td>\n",
       "      <td>5</td>\n",
       "      <td>3</td>\n",
       "      <td>62.9</td>\n",
       "      <td>57.0</td>\n",
       "      <td>4.27</td>\n",
       "      <td>4.25</td>\n",
       "      <td>2.68</td>\n",
       "      <td>6.4</td>\n",
       "    </tr>\n",
       "    <tr>\n",
       "      <th>46</th>\n",
       "      <td>46</td>\n",
       "      <td>0.34</td>\n",
       "      <td>3</td>\n",
       "      <td>6</td>\n",
       "      <td>2</td>\n",
       "      <td>61.7</td>\n",
       "      <td>61.0</td>\n",
       "      <td>4.47</td>\n",
       "      <td>4.51</td>\n",
       "      <td>2.77</td>\n",
       "      <td>6.2</td>\n",
       "    </tr>\n",
       "    <tr>\n",
       "      <th>47</th>\n",
       "      <td>47</td>\n",
       "      <td>2.15</td>\n",
       "      <td>3</td>\n",
       "      <td>2</td>\n",
       "      <td>2</td>\n",
       "      <td>63.4</td>\n",
       "      <td>56.0</td>\n",
       "      <td>8.20</td>\n",
       "      <td>8.15</td>\n",
       "      <td>5.18</td>\n",
       "      <td>9.6</td>\n",
       "    </tr>\n",
       "    <tr>\n",
       "      <th>48</th>\n",
       "      <td>48</td>\n",
       "      <td>1.23</td>\n",
       "      <td>5</td>\n",
       "      <td>3</td>\n",
       "      <td>4</td>\n",
       "      <td>62.2</td>\n",
       "      <td>55.0</td>\n",
       "      <td>6.85</td>\n",
       "      <td>6.81</td>\n",
       "      <td>4.25</td>\n",
       "      <td>8.9</td>\n",
       "    </tr>\n",
       "    <tr>\n",
       "      <th>49</th>\n",
       "      <td>49</td>\n",
       "      <td>1.04</td>\n",
       "      <td>3</td>\n",
       "      <td>6</td>\n",
       "      <td>3</td>\n",
       "      <td>59.6</td>\n",
       "      <td>59.0</td>\n",
       "      <td>6.56</td>\n",
       "      <td>6.59</td>\n",
       "      <td>3.92</td>\n",
       "      <td>8.6</td>\n",
       "    </tr>\n",
       "  </tbody>\n",
       "</table>\n",
       "</div>"
      ],
      "text/plain": [
       "    id  carat  cut  color  clarity  depth  table     x     y     z  price\n",
       "30  30   0.34    5      3        8   60.8   56.0  4.56  4.55  2.77    6.9\n",
       "31  31   1.11    5      3        2   61.3   60.0  6.68  6.66  4.09    8.4\n",
       "32  32   1.04    4      2        3   61.8   60.0  6.51  6.47  4.01    8.3\n",
       "33  33   0.30    4      3        3   61.3   61.0  4.27  4.25  2.61    6.3\n",
       "34  34   2.08    3      7        2   60.1   59.0  8.29  8.37  5.01    9.8\n",
       "35  35   1.00    3      3        4   64.7   56.0  6.23  6.29  4.05    8.6\n",
       "36  36   1.58    3      4        2   60.0   53.0  7.59  7.64  4.57    9.2\n",
       "37  37   0.70    3      6        2   63.2   61.0  5.62  5.59  3.54    7.7\n",
       "38  38   1.66    5      3        8   61.5   57.0  7.59  7.62  4.68    9.6\n",
       "39  39   2.03    4      4        3   61.3   59.0  8.11  8.08  4.96    9.7\n",
       "40  40   1.51    3      6        2   58.8   58.0  7.53  7.61  4.45    9.1\n",
       "41  41   0.90    5      4        4   62.0   57.0  6.22  6.19  3.85    8.5\n",
       "42  42   0.54    4      3        3   61.0   58.0  5.27  5.23  3.20    7.2\n",
       "43  43   0.91    4      5        4   62.2   58.0  6.21  6.17  3.85    8.4\n",
       "44  44   0.50    4      4        5   60.3   60.0  5.10  5.08  3.07    7.5\n",
       "45  45   0.30    5      5        3   62.9   57.0  4.27  4.25  2.68    6.4\n",
       "46  46   0.34    3      6        2   61.7   61.0  4.47  4.51  2.77    6.2\n",
       "47  47   2.15    3      2        2   63.4   56.0  8.20  8.15  5.18    9.6\n",
       "48  48   1.23    5      3        4   62.2   55.0  6.85  6.81  4.25    8.9\n",
       "49  49   1.04    3      6        3   59.6   59.0  6.56  6.59  3.92    8.6"
      ]
     },
     "execution_count": 107,
     "metadata": {},
     "output_type": "execute_result"
    }
   ],
   "source": [
    "df3[30:50]"
   ]
  },
  {
   "cell_type": "code",
   "execution_count": null,
   "id": "6a136424",
   "metadata": {},
   "outputs": [],
   "source": []
  }
 ],
 "metadata": {
  "kernelspec": {
   "display_name": "Python 3 (ipykernel)",
   "language": "python",
   "name": "python3"
  },
  "language_info": {
   "codemirror_mode": {
    "name": "ipython",
    "version": 3
   },
   "file_extension": ".py",
   "mimetype": "text/x-python",
   "name": "python",
   "nbconvert_exporter": "python",
   "pygments_lexer": "ipython3",
   "version": "3.8.10"
  }
 },
 "nbformat": 4,
 "nbformat_minor": 5
}
